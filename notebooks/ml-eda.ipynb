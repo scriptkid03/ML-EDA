{
 "cells": [
  {
   "cell_type": "code",
   "execution_count": 21,
   "metadata": {},
   "outputs": [],
   "source": [
    "import pandas as pd\n",
    "import numpy as np\n",
    "import seaborn as sns\n",
    "import matplotlib.pyplot as plt"
   ]
  },
  {
   "cell_type": "code",
   "execution_count": 22,
   "metadata": {},
   "outputs": [],
   "source": [
    "df = pd.read_csv('../data/genz.csv')"
   ]
  },
  {
   "cell_type": "code",
   "execution_count": 23,
   "metadata": {},
   "outputs": [
    {
     "name": "stdout",
     "output_type": "stream",
     "text": [
      "<class 'pandas.core.frame.DataFrame'>\n",
      "RangeIndex: 500 entries, 0 to 499\n",
      "Data columns (total 16 columns):\n",
      " #   Column                   Non-Null Count  Dtype \n",
      "---  ------                   --------------  ----- \n",
      " 0   User_ID                  500 non-null    int64 \n",
      " 1   Age                      500 non-null    int64 \n",
      " 2   Gender                   500 non-null    object\n",
      " 3   Location                 500 non-null    object\n",
      " 4   Education                500 non-null    object\n",
      " 5   Occupation               500 non-null    object\n",
      " 6   Primary_App              393 non-null    object\n",
      " 7   Secondary_Apps           386 non-null    object\n",
      " 8   Usage_Frequency          500 non-null    object\n",
      " 9   Daily_Usage_Time         500 non-null    object\n",
      " 10  Reason_for_Using         500 non-null    object\n",
      " 11  Satisfaction             500 non-null    int64 \n",
      " 12  Challenges               383 non-null    object\n",
      " 13  Desired_Features         500 non-null    object\n",
      " 14  Preferred_Communication  500 non-null    object\n",
      " 15  Partner_Priorities       500 non-null    object\n",
      "dtypes: int64(3), object(13)\n",
      "memory usage: 62.6+ KB\n",
      "None\n"
     ]
    },
    {
     "data": {
      "text/html": [
       "<div>\n",
       "<style scoped>\n",
       "    .dataframe tbody tr th:only-of-type {\n",
       "        vertical-align: middle;\n",
       "    }\n",
       "\n",
       "    .dataframe tbody tr th {\n",
       "        vertical-align: top;\n",
       "    }\n",
       "\n",
       "    .dataframe thead th {\n",
       "        text-align: right;\n",
       "    }\n",
       "</style>\n",
       "<table border=\"1\" class=\"dataframe\">\n",
       "  <thead>\n",
       "    <tr style=\"text-align: right;\">\n",
       "      <th></th>\n",
       "      <th>User_ID</th>\n",
       "      <th>Age</th>\n",
       "      <th>Gender</th>\n",
       "      <th>Location</th>\n",
       "      <th>Education</th>\n",
       "      <th>Occupation</th>\n",
       "      <th>Primary_App</th>\n",
       "      <th>Secondary_Apps</th>\n",
       "      <th>Usage_Frequency</th>\n",
       "      <th>Daily_Usage_Time</th>\n",
       "      <th>Reason_for_Using</th>\n",
       "      <th>Satisfaction</th>\n",
       "      <th>Challenges</th>\n",
       "      <th>Desired_Features</th>\n",
       "      <th>Preferred_Communication</th>\n",
       "      <th>Partner_Priorities</th>\n",
       "    </tr>\n",
       "  </thead>\n",
       "  <tbody>\n",
       "    <tr>\n",
       "      <th>0</th>\n",
       "      <td>1</td>\n",
       "      <td>20</td>\n",
       "      <td>Non-binary</td>\n",
       "      <td>Bangalore</td>\n",
       "      <td>Undergraduate</td>\n",
       "      <td>Freelancer</td>\n",
       "      <td>Hinge</td>\n",
       "      <td>Hinge</td>\n",
       "      <td>Monthly</td>\n",
       "      <td>1 hour</td>\n",
       "      <td>Finding a Partner</td>\n",
       "      <td>4</td>\n",
       "      <td>Safety Concerns</td>\n",
       "      <td>Audio Calls</td>\n",
       "      <td>Video Calls</td>\n",
       "      <td>Values &gt; Personality &gt; Appearance</td>\n",
       "    </tr>\n",
       "    <tr>\n",
       "      <th>1</th>\n",
       "      <td>2</td>\n",
       "      <td>24</td>\n",
       "      <td>Female</td>\n",
       "      <td>Delhi</td>\n",
       "      <td>Undergraduate</td>\n",
       "      <td>Part-time Job</td>\n",
       "      <td>Hinge</td>\n",
       "      <td>OkCupid</td>\n",
       "      <td>Weekly</td>\n",
       "      <td>30 minutes</td>\n",
       "      <td>Casual Dating</td>\n",
       "      <td>5</td>\n",
       "      <td>Time-Wasting</td>\n",
       "      <td>Video Calls</td>\n",
       "      <td>Text</td>\n",
       "      <td>Values &gt; Personality &gt; Appearance</td>\n",
       "    </tr>\n",
       "    <tr>\n",
       "      <th>2</th>\n",
       "      <td>3</td>\n",
       "      <td>24</td>\n",
       "      <td>Non-binary</td>\n",
       "      <td>Kolkata</td>\n",
       "      <td>Undergraduate</td>\n",
       "      <td>Intern</td>\n",
       "      <td>NaN</td>\n",
       "      <td>NaN</td>\n",
       "      <td>Weekly</td>\n",
       "      <td>2 hours</td>\n",
       "      <td>Casual Dating</td>\n",
       "      <td>4</td>\n",
       "      <td>Safety Concerns</td>\n",
       "      <td>Detailed Profiles</td>\n",
       "      <td>Text</td>\n",
       "      <td>Values &gt; Personality &gt; Appearance</td>\n",
       "    </tr>\n",
       "    <tr>\n",
       "      <th>3</th>\n",
       "      <td>4</td>\n",
       "      <td>22</td>\n",
       "      <td>Non-binary</td>\n",
       "      <td>Delhi</td>\n",
       "      <td>Graduate</td>\n",
       "      <td>Full-time Job</td>\n",
       "      <td>NaN</td>\n",
       "      <td>OkCupid</td>\n",
       "      <td>Daily</td>\n",
       "      <td>30 minutes</td>\n",
       "      <td>Casual Fun</td>\n",
       "      <td>3</td>\n",
       "      <td>NaN</td>\n",
       "      <td>AI Recommendations</td>\n",
       "      <td>Voice Notes</td>\n",
       "      <td>Personality &gt; Interests &gt; Values</td>\n",
       "    </tr>\n",
       "    <tr>\n",
       "      <th>4</th>\n",
       "      <td>5</td>\n",
       "      <td>18</td>\n",
       "      <td>Male</td>\n",
       "      <td>Delhi</td>\n",
       "      <td>Graduate</td>\n",
       "      <td>Intern</td>\n",
       "      <td>OkCupid</td>\n",
       "      <td>OkCupid</td>\n",
       "      <td>Weekly</td>\n",
       "      <td>2 hours</td>\n",
       "      <td>Casual Fun</td>\n",
       "      <td>4</td>\n",
       "      <td>Safety Concerns</td>\n",
       "      <td>Video Calls</td>\n",
       "      <td>Text</td>\n",
       "      <td>Appearance &gt; Interests &gt; Personality</td>\n",
       "    </tr>\n",
       "  </tbody>\n",
       "</table>\n",
       "</div>"
      ],
      "text/plain": [
       "   User_ID  Age      Gender   Location      Education     Occupation  \\\n",
       "0        1   20  Non-binary  Bangalore  Undergraduate     Freelancer   \n",
       "1        2   24      Female      Delhi  Undergraduate  Part-time Job   \n",
       "2        3   24  Non-binary    Kolkata  Undergraduate         Intern   \n",
       "3        4   22  Non-binary      Delhi       Graduate  Full-time Job   \n",
       "4        5   18        Male      Delhi       Graduate         Intern   \n",
       "\n",
       "  Primary_App Secondary_Apps Usage_Frequency Daily_Usage_Time  \\\n",
       "0       Hinge          Hinge         Monthly           1 hour   \n",
       "1       Hinge        OkCupid          Weekly       30 minutes   \n",
       "2         NaN            NaN          Weekly          2 hours   \n",
       "3         NaN        OkCupid           Daily       30 minutes   \n",
       "4     OkCupid        OkCupid          Weekly          2 hours   \n",
       "\n",
       "    Reason_for_Using  Satisfaction       Challenges    Desired_Features  \\\n",
       "0  Finding a Partner             4  Safety Concerns         Audio Calls   \n",
       "1      Casual Dating             5     Time-Wasting         Video Calls   \n",
       "2      Casual Dating             4  Safety Concerns   Detailed Profiles   \n",
       "3         Casual Fun             3              NaN  AI Recommendations   \n",
       "4         Casual Fun             4  Safety Concerns         Video Calls   \n",
       "\n",
       "  Preferred_Communication                    Partner_Priorities  \n",
       "0             Video Calls     Values > Personality > Appearance  \n",
       "1                    Text     Values > Personality > Appearance  \n",
       "2                    Text     Values > Personality > Appearance  \n",
       "3             Voice Notes      Personality > Interests > Values  \n",
       "4                    Text  Appearance > Interests > Personality  "
      ]
     },
     "metadata": {},
     "output_type": "display_data"
    }
   ],
   "source": [
    "# Display Basic Information\n",
    "print(df.info())\n",
    "display(df.head())"
   ]
  },
  {
   "cell_type": "code",
   "execution_count": 24,
   "metadata": {},
   "outputs": [
    {
     "name": "stdout",
     "output_type": "stream",
     "text": [
      "Duplicate rows: 0\n"
     ]
    }
   ],
   "source": [
    "# Check for Duplicate Rows\n",
    "duplicates = df.duplicated().sum()\n",
    "print(f\"Duplicate rows: {duplicates}\")"
   ]
  },
  {
   "cell_type": "code",
   "execution_count": 25,
   "metadata": {},
   "outputs": [
    {
     "name": "stdout",
     "output_type": "stream",
     "text": [
      "Missing Values per Column:\n",
      " User_ID                      0\n",
      "Age                          0\n",
      "Gender                       0\n",
      "Location                     0\n",
      "Education                    0\n",
      "Occupation                   0\n",
      "Primary_App                107\n",
      "Secondary_Apps             114\n",
      "Usage_Frequency              0\n",
      "Daily_Usage_Time             0\n",
      "Reason_for_Using             0\n",
      "Satisfaction                 0\n",
      "Challenges                 117\n",
      "Desired_Features             0\n",
      "Preferred_Communication      0\n",
      "Partner_Priorities           0\n",
      "dtype: int64\n"
     ]
    }
   ],
   "source": [
    "# Check for Missing Values\n",
    "missing_values = df.isnull().sum()\n",
    "print(\"Missing Values per Column:\\n\", missing_values)"
   ]
  },
  {
   "cell_type": "code",
   "execution_count": 26,
   "metadata": {},
   "outputs": [
    {
     "name": "stdout",
     "output_type": "stream",
     "text": [
      "Missing Values per Column:\n",
      " User_ID                    0\n",
      "Age                        0\n",
      "Gender                     0\n",
      "Location                   0\n",
      "Education                  0\n",
      "Occupation                 0\n",
      "Primary_App                0\n",
      "Secondary_Apps             0\n",
      "Usage_Frequency            0\n",
      "Daily_Usage_Time           0\n",
      "Reason_for_Using           0\n",
      "Satisfaction               0\n",
      "Challenges                 0\n",
      "Desired_Features           0\n",
      "Preferred_Communication    0\n",
      "Partner_Priorities         0\n",
      "dtype: int64\n"
     ]
    }
   ],
   "source": [
    "# Fill missing values with 'unknown'\n",
    "df.fillna(\"unknown\", inplace=True)\n",
    "missing_values = df.isnull().sum()\n",
    "print(\"Missing Values per Column:\\n\", missing_values)"
   ]
  },
  {
   "cell_type": "code",
   "execution_count": 27,
   "metadata": {},
   "outputs": [
    {
     "name": "stdout",
     "output_type": "stream",
     "text": [
      "<class 'pandas.core.frame.DataFrame'>\n",
      "RangeIndex: 500 entries, 0 to 499\n",
      "Data columns (total 16 columns):\n",
      " #   Column                   Non-Null Count  Dtype \n",
      "---  ------                   --------------  ----- \n",
      " 0   User_ID                  500 non-null    int64 \n",
      " 1   Age                      500 non-null    int64 \n",
      " 2   Gender                   500 non-null    object\n",
      " 3   Location                 500 non-null    object\n",
      " 4   Education                500 non-null    object\n",
      " 5   Occupation               500 non-null    object\n",
      " 6   Primary_App              500 non-null    object\n",
      " 7   Secondary_Apps           500 non-null    object\n",
      " 8   Usage_Frequency          500 non-null    object\n",
      " 9   Daily_Usage_Time         500 non-null    object\n",
      " 10  Reason_for_Using         500 non-null    object\n",
      " 11  Satisfaction             500 non-null    int64 \n",
      " 12  Challenges               500 non-null    object\n",
      " 13  Desired_Features         500 non-null    object\n",
      " 14  Preferred_Communication  500 non-null    object\n",
      " 15  Partner_Priorities       500 non-null    object\n",
      "dtypes: int64(3), object(13)\n",
      "memory usage: 62.6+ KB\n"
     ]
    }
   ],
   "source": [
    "df.info()"
   ]
  },
  {
   "cell_type": "code",
   "execution_count": 28,
   "metadata": {},
   "outputs": [],
   "source": [
    "# Convert 'Daily_Usage_Time' to Numeric (Minutes)\n",
    "time_mapping = {\n",
    "    '30 minutes': 30,\n",
    "    '1 hour': 60,\n",
    "    '1.5 hours': 90,\n",
    "    '2 hours': 120,\n",
    "    '3 hours': 180\n",
    "}\n",
    "df['Daily_Usage_Time'] = df['Daily_Usage_Time'].map(time_mapping)"
   ]
  },
  {
   "cell_type": "code",
   "execution_count": 29,
   "metadata": {},
   "outputs": [],
   "source": [
    "df[df.select_dtypes(include='object').columns] = df.select_dtypes(include='object').astype('category')"
   ]
  },
  {
   "cell_type": "code",
   "execution_count": 30,
   "metadata": {},
   "outputs": [
    {
     "name": "stdout",
     "output_type": "stream",
     "text": [
      "<class 'pandas.core.frame.DataFrame'>\n",
      "RangeIndex: 500 entries, 0 to 499\n",
      "Data columns (total 16 columns):\n",
      " #   Column                   Non-Null Count  Dtype   \n",
      "---  ------                   --------------  -----   \n",
      " 0   User_ID                  500 non-null    int64   \n",
      " 1   Age                      500 non-null    int64   \n",
      " 2   Gender                   500 non-null    category\n",
      " 3   Location                 500 non-null    category\n",
      " 4   Education                500 non-null    category\n",
      " 5   Occupation               500 non-null    category\n",
      " 6   Primary_App              500 non-null    category\n",
      " 7   Secondary_Apps           500 non-null    category\n",
      " 8   Usage_Frequency          500 non-null    category\n",
      " 9   Daily_Usage_Time         500 non-null    int64   \n",
      " 10  Reason_for_Using         500 non-null    category\n",
      " 11  Satisfaction             500 non-null    int64   \n",
      " 12  Challenges               500 non-null    category\n",
      " 13  Desired_Features         500 non-null    category\n",
      " 14  Preferred_Communication  500 non-null    category\n",
      " 15  Partner_Priorities       500 non-null    category\n",
      "dtypes: category(12), int64(4)\n",
      "memory usage: 23.8 KB\n"
     ]
    }
   ],
   "source": [
    "df.info()"
   ]
  },
  {
   "cell_type": "code",
   "execution_count": 31,
   "metadata": {},
   "outputs": [
    {
     "name": "stdout",
     "output_type": "stream",
     "text": [
      "Outliers in Age: 0\n",
      "Outliers in Satisfaction: 0\n",
      "Outliers in Daily_Usage_Time: 0\n"
     ]
    }
   ],
   "source": [
    "# Detect Outliers using IQR Method\n",
    "numerical_columns = ['Age', 'Satisfaction', 'Daily_Usage_Time']\n",
    "for col in numerical_columns:\n",
    "    Q1 = df[col].quantile(0.25)\n",
    "    Q3 = df[col].quantile(0.75)\n",
    "    IQR = Q3 - Q1\n",
    "    lower_bound = Q1 - 1.5 * IQR\n",
    "    upper_bound = Q3 + 1.5 * IQR\n",
    "    outliers = df[(df[col] < lower_bound) | (df[col] > upper_bound)]\n",
    "    print(f\"Outliers in {col}: {len(outliers)}\")"
   ]
  },
  {
   "cell_type": "code",
   "execution_count": 32,
   "metadata": {},
   "outputs": [
    {
     "data": {
      "image/png": "[encoded data removed]",
      "text/plain": [
       "<Figure size 1000x500 with 1 Axes>"
      ]
     },
     "metadata": {},
     "output_type": "display_data"
    }
   ],
   "source": [
    "# Boxplot for Outlier Visualization\n",
    "plt.figure(figsize=(10, 5))\n",
    "sns.boxplot(data=df[numerical_columns])\n",
    "plt.xticks(rotation=90)\n",
    "plt.show()"
   ]
  },
  {
   "cell_type": "code",
   "execution_count": 33,
   "metadata": {},
   "outputs": [],
   "source": [
    "# Save Cleaned Data (Optional)\n",
    "df.to_csv(\"../data/version1.csv\", index=False)"
   ]
  },
  {
   "cell_type": "code",
   "execution_count": null,
   "metadata": {},
   "outputs": [],
   "source": []
  }
 ],
 "metadata": {
  "kernelspec": {
   "display_name": "base",
   "language": "python",
   "name": "python3"
  },
  "language_info": {
   "codemirror_mode": {
    "name": "ipython",
    "version": 3
   },
   "file_extension": ".py",
   "mimetype": "text/x-python",
   "name": "python",
   "nbconvert_exporter": "python",
   "pygments_lexer": "ipython3",
   "version": "3.12.7"
  }
 },
 "nbformat": 4,
 "nbformat_minor": 2
}
